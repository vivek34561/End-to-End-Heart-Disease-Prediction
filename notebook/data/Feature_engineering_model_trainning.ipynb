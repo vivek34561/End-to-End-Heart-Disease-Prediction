{
 "cells": [
  {
   "cell_type": "code",
   "execution_count": 18,
   "id": "c0e9e13f",
   "metadata": {},
   "outputs": [],
   "source": [
    "import numpy as np\n",
    "import pandas as pd\n",
    "import seaborn as sns\n",
    "import matplotlib.pyplot as plt\n",
    "from sklearn.model_selection import train_test_split\n",
    "from sklearn.metrics import mean_squared_error , r2_score , accuracy_score\n",
    "from sklearn.neighbors import KNeighborsRegressor\n",
    "from sklearn.tree import DecisionTreeRegressor\n",
    "from sklearn.ensemble import RandomForestRegressor , AdaBoostRegressor\n",
    "from sklearn.svm import SVR\n",
    "from sklearn.metrics import mean_absolute_error \n",
    "from sklearn.model_selection import RandomizedSearchCV\n",
    "from catboost import CatBoostRegressor\n",
    "from xgboost import XGBRegressor\n",
    "import warnings\n",
    "from sklearn.linear_model import LinearRegression\n",
    "from sklearn.linear_model import Lasso, Ridge\n"
   ]
  },
  {
   "cell_type": "code",
   "execution_count": 19,
   "id": "ed1055b2",
   "metadata": {},
   "outputs": [],
   "source": [
    "df  = pd.read_csv('cleaned_data.csv')"
   ]
  },
  {
   "cell_type": "code",
   "execution_count": 20,
   "id": "57852d11",
   "metadata": {},
   "outputs": [],
   "source": [
    "import pandas as pd\n",
    "import numpy as np\n",
    "from sklearn.model_selection import train_test_split\n",
    "from sklearn.pipeline import Pipeline\n",
    "from sklearn.compose import ColumnTransformer\n",
    "from sklearn.preprocessing import StandardScaler, OneHotEncoder\n",
    "from sklearn.impute import SimpleImputer\n",
    "from sklearn.ensemble import RandomForestClassifier\n",
    "from sklearn.metrics import classification_report , accuracy_score\n",
    "\n"
   ]
  },
  {
   "cell_type": "code",
   "execution_count": 21,
   "id": "e613187a",
   "metadata": {},
   "outputs": [],
   "source": [
    "X = df.drop(\"Heart Disease Status\", axis=1)\n",
    "y = df[\"Heart Disease Status\"]"
   ]
  },
  {
   "cell_type": "code",
   "execution_count": 22,
   "id": "807e05aa",
   "metadata": {},
   "outputs": [],
   "source": [
    "from sklearn.preprocessing import LabelEncoder\n",
    "\n",
    "# Encode target column\n",
    "le = LabelEncoder()\n",
    "y = le.fit_transform(df[\"Heart Disease Status\"])"
   ]
  },
  {
   "cell_type": "code",
   "execution_count": 23,
   "id": "2c7d71db",
   "metadata": {},
   "outputs": [],
   "source": [
    "numeric_features = X.select_dtypes(include=[\"int64\", \"float64\"]).columns.tolist()\n",
    "categorical_features = X.select_dtypes(include=[\"object\"]).columns.tolist()\n",
    "\n",
    "# Optional: Replace missing categorical values randomly if needed\n",
    "for col in categorical_features:\n",
    "    if X[col].isnull().sum() > 0:\n",
    "        categories = X[col].dropna().unique()\n",
    "        np.random.seed(42)\n",
    "        mask = X[col].isnull()\n",
    "        X.loc[mask, col] = np.random.choice(categories, size=mask.sum(), replace=True)\n",
    "\n",
    "# Define preprocessing pipelines\n",
    "numeric_transformer = Pipeline(steps=[\n",
    "    (\"imputer\", SimpleImputer(strategy=\"median\")),\n",
    "    (\"scaler\", StandardScaler())\n",
    "])\n",
    "\n",
    "categorical_transformer = Pipeline(steps=[\n",
    "    (\"imputer\", SimpleImputer(strategy=\"most_frequent\")),\n",
    "    (\"encoder\", OneHotEncoder(handle_unknown=\"ignore\"))\n",
    "])\n",
    "\n",
    "# Combine transformers\n",
    "preprocessor = ColumnTransformer(transformers=[\n",
    "    (\"num\", numeric_transformer, numeric_features),\n",
    "    (\"cat\", categorical_transformer, categorical_features)\n",
    "])\n"
   ]
  },
  {
   "cell_type": "code",
   "execution_count": 24,
   "id": "620688d3",
   "metadata": {},
   "outputs": [],
   "source": [
    "# Combine transformers\n",
    "preprocessor = ColumnTransformer(transformers=[\n",
    "    (\"num\", numeric_transformer, numeric_features),\n",
    "    (\"cat\", categorical_transformer, categorical_features)\n",
    "])\n"
   ]
  },
  {
   "cell_type": "code",
   "execution_count": 25,
   "id": "8aba0430",
   "metadata": {},
   "outputs": [],
   "source": [
    "# Define full pipeline with classifier\n",
    "X = preprocessor.fit_transform(X)"
   ]
  },
  {
   "cell_type": "code",
   "execution_count": 26,
   "id": "b0c553d9",
   "metadata": {},
   "outputs": [],
   "source": [
    "# Split data\n",
    "X_train, X_test, y_train, y_test = train_test_split(X, y, test_size=0.2, random_state=42)\n",
    "\n"
   ]
  },
  {
   "cell_type": "code",
   "execution_count": null,
   "id": "ae71c359",
   "metadata": {},
   "outputs": [],
   "source": []
  },
  {
   "cell_type": "code",
   "execution_count": 27,
   "id": "6c333dda",
   "metadata": {},
   "outputs": [],
   "source": [
    "from sklearn.metrics import accuracy_score\n",
    "\n",
    "def evaluate_model(true, predicted):\n",
    "    predicted = np.round(predicted)  # Convert regression output to class labels\n",
    "    accuracy = accuracy_score(true, predicted)\n",
    "    return accuracy\n"
   ]
  },
  {
   "cell_type": "code",
   "execution_count": 28,
   "id": "218a8998",
   "metadata": {},
   "outputs": [],
   "source": [
    "from sklearn.linear_model import LogisticRegression\n",
    "from sklearn.ensemble import RandomForestClassifier, AdaBoostClassifier\n",
    "from sklearn.tree import DecisionTreeClassifier\n",
    "from xgboost import XGBClassifier\n",
    "from catboost import CatBoostClassifier\n",
    "from sklearn.neighbors import KNeighborsClassifier\n",
    "\n",
    "models = {\n",
    "    \"Logistic Regression\": LogisticRegression(),\n",
    "    \"KNN\": KNeighborsClassifier(),\n",
    "    \"Decision Tree\": DecisionTreeClassifier(),\n",
    "    \"Random Forest\": RandomForestClassifier(),\n",
    "    \"XGBoost\": XGBClassifier(use_label_encoder=False, eval_metric='logloss'),\n",
    "    \"CatBoost\": CatBoostClassifier(verbose=0),\n",
    "    \"AdaBoost\": AdaBoostClassifier()\n",
    "}\n"
   ]
  },
  {
   "cell_type": "code",
   "execution_count": 29,
   "id": "24c395d8",
   "metadata": {},
   "outputs": [
    {
     "name": "stdout",
     "output_type": "stream",
     "text": [
      "Logistic Regression\n",
      "Model Performance for Training Set\n",
      "- Accuracy Score: 0.8003\n",
      "-----------------------------\n",
      "Model Performance for Test Set\n",
      "- Accuracy Score: 0.7976\n",
      "===================================\n",
      "\n",
      "\n",
      "KNN\n",
      "Model Performance for Training Set\n",
      "- Accuracy Score: 0.8173\n",
      "-----------------------------\n",
      "Model Performance for Test Set\n",
      "- Accuracy Score: 0.7680\n",
      "===================================\n",
      "\n",
      "\n",
      "Decision Tree\n",
      "Model Performance for Training Set\n",
      "- Accuracy Score: 1.0000\n",
      "-----------------------------\n",
      "Model Performance for Test Set\n",
      "- Accuracy Score: 0.6629\n",
      "===================================\n",
      "\n",
      "\n",
      "Random Forest\n",
      "Model Performance for Training Set\n",
      "- Accuracy Score: 1.0000\n",
      "-----------------------------\n",
      "Model Performance for Test Set\n",
      "- Accuracy Score: 0.7976\n",
      "===================================\n",
      "\n",
      "\n",
      "XGBoost\n",
      "Model Performance for Training Set\n",
      "- Accuracy Score: 0.9713\n",
      "-----------------------------\n",
      "Model Performance for Test Set\n",
      "- Accuracy Score: 0.7843\n",
      "===================================\n",
      "\n",
      "\n"
     ]
    },
    {
     "name": "stderr",
     "output_type": "stream",
     "text": [
      "c:\\Users\\vivek gupta\\Desktop\\Heart_disease_prediction\\heart_venv\\Lib\\site-packages\\xgboost\\training.py:183: UserWarning: [20:07:31] WARNING: C:\\actions-runner\\_work\\xgboost\\xgboost\\src\\learner.cc:738: \n",
      "Parameters: { \"use_label_encoder\" } are not used.\n",
      "\n",
      "  bst.update(dtrain, iteration=i, fobj=obj)\n"
     ]
    },
    {
     "name": "stdout",
     "output_type": "stream",
     "text": [
      "CatBoost\n",
      "Model Performance for Training Set\n",
      "- Accuracy Score: 0.8347\n",
      "-----------------------------\n",
      "Model Performance for Test Set\n",
      "- Accuracy Score: 0.7976\n",
      "===================================\n",
      "\n",
      "\n",
      "AdaBoost\n",
      "Model Performance for Training Set\n",
      "- Accuracy Score: 0.8003\n",
      "-----------------------------\n",
      "Model Performance for Test Set\n",
      "- Accuracy Score: 0.7976\n",
      "===================================\n",
      "\n",
      "\n"
     ]
    }
   ],
   "source": [
    "accuracy_list = []\n",
    "model_list = []\n",
    "\n",
    "for i in range(len(list(models))):\n",
    "    model = list(models.values())[i]\n",
    "    model_name = list(models.keys())[i]\n",
    "\n",
    "    model.fit(X_train, y_train)\n",
    "\n",
    "    y_train_pred = model.predict(X_train)\n",
    "    y_test_pred = model.predict(X_test)\n",
    "\n",
    "    train_acc = accuracy_score(y_train, y_train_pred)\n",
    "    test_acc = accuracy_score(y_test, y_test_pred)\n",
    "\n",
    "    print(model_name)\n",
    "    model_list.append(model_name)\n",
    "\n",
    "    print('Model Performance for Training Set')\n",
    "    print(\"- Accuracy Score: {:.4f}\".format(train_acc))\n",
    "\n",
    "    print('-----------------------------')\n",
    "\n",
    "    print('Model Performance for Test Set')\n",
    "    print(\"- Accuracy Score: {:.4f}\".format(test_acc))\n",
    "\n",
    "    accuracy_list.append(test_acc)  \n",
    "\n",
    "    print('=' * 35)\n",
    "    print('\\n')\n"
   ]
  },
  {
   "cell_type": "code",
   "execution_count": 30,
   "id": "6aa26e19",
   "metadata": {},
   "outputs": [
    {
     "name": "stderr",
     "output_type": "stream",
     "text": [
      "c:\\Users\\vivek gupta\\Desktop\\Heart_disease_prediction\\heart_venv\\Lib\\site-packages\\xgboost\\training.py:183: UserWarning: [20:07:40] WARNING: C:\\actions-runner\\_work\\xgboost\\xgboost\\src\\learner.cc:738: \n",
      "Parameters: { \"use_label_encoder\" } are not used.\n",
      "\n",
      "  bst.update(dtrain, iteration=i, fobj=obj)\n"
     ]
    },
    {
     "name": "stdout",
     "output_type": "stream",
     "text": [
      "Voting Classifier Accuracy: 0.7976\n"
     ]
    }
   ],
   "source": [
    "from sklearn.ensemble import VotingClassifier, RandomForestClassifier, AdaBoostClassifier\n",
    "from sklearn.linear_model import LogisticRegression\n",
    "from sklearn.neighbors import KNeighborsClassifier\n",
    "from sklearn.tree import DecisionTreeClassifier\n",
    "from xgboost import XGBClassifier\n",
    "from sklearn.metrics import accuracy_score\n",
    "from sklearn.model_selection import train_test_split\n",
    "\n",
    "# Split your data\n",
    "# X_train, X_test, y_train, y_test = train_test_split(X, y, test_size=0.2, random_state=42)\n",
    "\n",
    "# Define base models\n",
    "log_clf = LogisticRegression()\n",
    "knn_clf = KNeighborsClassifier()\n",
    "dt_clf = DecisionTreeClassifier()\n",
    "rf_clf = RandomForestClassifier(n_estimators=250 , criterion='gini')\n",
    "xgb_clf = XGBClassifier(use_label_encoder=False, eval_metric='logloss')\n",
    "ada_clf = AdaBoostClassifier()\n",
    "\n",
    "# Voting Classifier (Hard Voting or Soft Voting)\n",
    "voting_clf = VotingClassifier(\n",
    "    estimators=[\n",
    "        ('lr', log_clf),\n",
    "        ('knn', knn_clf),\n",
    "        ('dt', dt_clf),\n",
    "        ('rf', rf_clf),\n",
    "        ('xgb', xgb_clf),\n",
    "        ('ada', ada_clf)\n",
    "    ],\n",
    "    voting='hard'  # change to 'soft' if models support predict_proba\n",
    ")\n",
    "\n",
    "# Fit ensemble model\n",
    "voting_clf.fit(X_train, y_train)\n",
    "\n",
    "# Predict\n",
    "y_pred = voting_clf.predict(X_test)\n",
    "\n",
    "# Evaluate\n",
    "accuracy = accuracy_score(y_test, y_pred)\n",
    "print(\"Voting Classifier Accuracy: {:.4f}\".format(accuracy))\n"
   ]
  },
  {
   "cell_type": "code",
   "execution_count": 31,
   "id": "fd4c4284",
   "metadata": {},
   "outputs": [
    {
     "data": {
      "text/plain": [
       "0.7975522692503825"
      ]
     },
     "execution_count": 31,
     "metadata": {},
     "output_type": "execute_result"
    }
   ],
   "source": [
    "# prediction throught only random forest\n",
    "\n",
    "rf_clf.fit(X_train, y_train)\n",
    "\n",
    "y_pred_rf = rf_clf.predict(X_test)\n",
    "\n",
    "accuracy = accuracy_score(y_test, y_pred_rf)\n",
    "accuracy"
   ]
  },
  {
   "cell_type": "code",
   "execution_count": 32,
   "id": "9288ae3f",
   "metadata": {},
   "outputs": [
    {
     "data": {
      "text/plain": [
       "array([0, 0, 0, ..., 1, 1, 1])"
      ]
     },
     "execution_count": 32,
     "metadata": {},
     "output_type": "execute_result"
    }
   ],
   "source": [
    "y"
   ]
  }
 ],
 "metadata": {
  "kernelspec": {
   "display_name": "heart_venv",
   "language": "python",
   "name": "python3"
  },
  "language_info": {
   "codemirror_mode": {
    "name": "ipython",
    "version": 3
   },
   "file_extension": ".py",
   "mimetype": "text/x-python",
   "name": "python",
   "nbconvert_exporter": "python",
   "pygments_lexer": "ipython3",
   "version": "3.11.0"
  }
 },
 "nbformat": 4,
 "nbformat_minor": 5
}
